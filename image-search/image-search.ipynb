{
 "cells": [
  {
   "cell_type": "code",
   "execution_count": null,
   "metadata": {},
   "outputs": [],
   "source": [
    "import os\n",
    "import cv2\n",
    "import matplotlib as plt\n",
    "import numpy as np\n",
    "from collections import defaultdict\n",
    "import skimage\n",
    "\n",
    "plt.style.use('dark_background')\n",
    "path = \"FILE_PATH\"\n",
    "categories = os.listdir(path)"
   ]
  },
  {
   "cell_type": "code",
   "execution_count": null,
   "metadata": {},
   "outputs": [],
   "source": [
    "def imread(path):\n",
    "    image = cv2.imread(path)\n",
    "    return image"
   ]
  },
  {
   "cell_type": "code",
   "execution_count": null,
   "metadata": {},
   "outputs": [],
   "source": [
    "np.random.seed(48)\n",
    "category_filename = defaultdict(list)\n",
    "for i in range(len(categories)):\n",
    "    for _ in range(5):\n",
    "        category_filename[categories[i]].append(np.random.choice(os.listdir(path+categories[i])))\n",
    "\n",
    "f, axarr = plt.subplots"
   ]
  }
 ],
 "metadata": {
  "kernelspec": {
   "display_name": ".venv",
   "language": "python",
   "name": "python3"
  },
  "language_info": {
   "name": "python",
   "version": "3.11.4"
  }
 },
 "nbformat": 4,
 "nbformat_minor": 2
}
